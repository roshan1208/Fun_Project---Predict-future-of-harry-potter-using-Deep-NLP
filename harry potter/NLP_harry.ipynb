{
  "nbformat": 4,
  "nbformat_minor": 0,
  "metadata": {
    "colab": {
      "name": "NLP_harry.ipynb",
      "provenance": [],
      "collapsed_sections": []
    },
    "kernelspec": {
      "name": "python3",
      "display_name": "Python 3"
    }
  },
  "cells": [
    {
      "cell_type": "code",
      "metadata": {
        "id": "7cR7j8ocVHy2"
      },
      "source": [
        "import numpy as np"
      ],
      "execution_count": 59,
      "outputs": []
    },
    {
      "cell_type": "code",
      "metadata": {
        "id": "Bf6PBB_KWKYk"
      },
      "source": [
        "import pandas as pd"
      ],
      "execution_count": 60,
      "outputs": []
    },
    {
      "cell_type": "code",
      "metadata": {
        "id": "LeV5DdykWMXT"
      },
      "source": [
        "import tensorflow as tf\n",
        "%tensorflow_version 2.x"
      ],
      "execution_count": 61,
      "outputs": []
    },
    {
      "cell_type": "code",
      "metadata": {
        "id": "6-SN77BBVcKb"
      },
      "source": [
        "text = open('harry_potter.txt',mode='r',encoding='latin1').read()"
      ],
      "execution_count": 62,
      "outputs": []
    },
    {
      "cell_type": "code",
      "metadata": {
        "id": "IxjlBWplVq9X",
        "outputId": "69034e8f-8de2-4e21-8f39-d807539e35b5",
        "colab": {
          "base_uri": "https://localhost:8080/",
          "height": 71
        }
      },
      "source": [
        "print(text[:200])"
      ],
      "execution_count": 63,
      "outputs": [
        {
          "output_type": "stream",
          "text": [
            "Doorstep Delivery\n",
            "[It is nighttime in Surrey, we see two owls on the street sign \"PRIVET DRIVE\" and the camera pans to the street with very identical looking brown bricked houses. One the owls fly awa\n"
          ],
          "name": "stdout"
        }
      ]
    },
    {
      "cell_type": "code",
      "metadata": {
        "id": "NeHZoO75WjbL",
        "outputId": "2cfb3dac-7494-4636-c4d4-c505eaa6c896",
        "colab": {
          "base_uri": "https://localhost:8080/",
          "height": 34
        }
      },
      "source": [
        "len(text)"
      ],
      "execution_count": 64,
      "outputs": [
        {
          "output_type": "execute_result",
          "data": {
            "text/plain": [
              "418058"
            ]
          },
          "metadata": {
            "tags": []
          },
          "execution_count": 64
        }
      ]
    },
    {
      "cell_type": "code",
      "metadata": {
        "id": "wcmS5sbrWvjm"
      },
      "source": [
        "vocab = sorted(set(text))"
      ],
      "execution_count": 65,
      "outputs": []
    },
    {
      "cell_type": "code",
      "metadata": {
        "id": "WQvYG7z2dKbn",
        "outputId": "e41a12aa-d484-48b5-af93-45ee5dc33c3e",
        "colab": {
          "base_uri": "https://localhost:8080/",
          "height": 34
        }
      },
      "source": [
        "len(vocab)"
      ],
      "execution_count": 66,
      "outputs": [
        {
          "output_type": "execute_result",
          "data": {
            "text/plain": [
              "88"
            ]
          },
          "metadata": {
            "tags": []
          },
          "execution_count": 66
        }
      ]
    },
    {
      "cell_type": "code",
      "metadata": {
        "id": "yQ2yhbv-dSZh"
      },
      "source": [
        "char_to_ind = {char:ind for ind,char in enumerate(vocab)}"
      ],
      "execution_count": 67,
      "outputs": []
    },
    {
      "cell_type": "code",
      "metadata": {
        "id": "WStek2mrdgkO",
        "outputId": "1f4296f9-9ce7-4de8-f478-adae9309586d",
        "colab": {
          "base_uri": "https://localhost:8080/",
          "height": 34
        }
      },
      "source": [
        "char_to_ind[':']"
      ],
      "execution_count": 68,
      "outputs": [
        {
          "output_type": "execute_result",
          "data": {
            "text/plain": [
              "21"
            ]
          },
          "metadata": {
            "tags": []
          },
          "execution_count": 68
        }
      ]
    },
    {
      "cell_type": "code",
      "metadata": {
        "id": "srx_LqXNdibW"
      },
      "source": [
        "ind_to_char = np.array(vocab)"
      ],
      "execution_count": 69,
      "outputs": []
    },
    {
      "cell_type": "code",
      "metadata": {
        "id": "c6qdyTfLdqFC",
        "outputId": "8fbfe909-b78f-4b67-faa4-8196a4763ad8",
        "colab": {
          "base_uri": "https://localhost:8080/",
          "height": 35
        }
      },
      "source": [
        "ind_to_char[21]"
      ],
      "execution_count": 70,
      "outputs": [
        {
          "output_type": "execute_result",
          "data": {
            "application/vnd.google.colaboratory.intrinsic+json": {
              "type": "string"
            },
            "text/plain": [
              "':'"
            ]
          },
          "metadata": {
            "tags": []
          },
          "execution_count": 70
        }
      ]
    },
    {
      "cell_type": "code",
      "metadata": {
        "id": "MDWDfptXdtFz"
      },
      "source": [
        "encoded_text = np.array([char_to_ind[c] for c in text])"
      ],
      "execution_count": 71,
      "outputs": []
    },
    {
      "cell_type": "code",
      "metadata": {
        "id": "T1TiAVQ_eILX",
        "outputId": "50a3f618-d437-4018-dfca-73cc3571753f",
        "colab": {
          "base_uri": "https://localhost:8080/",
          "height": 221
        }
      },
      "source": [
        "encoded_text[:200]"
      ],
      "execution_count": 72,
      "outputs": [
        {
          "output_type": "execute_result",
          "data": {
            "text/plain": [
              "array([27, 66, 66, 69, 70, 71, 56, 67,  1, 27, 56, 63, 60, 73, 56, 69, 76,\n",
              "        0, 50, 32, 71,  1, 60, 70,  1, 65, 60, 58, 59, 71, 71, 60, 64, 56,\n",
              "        1, 60, 65,  1, 42, 72, 69, 69, 56, 76,  7,  1, 74, 56,  1, 70, 56,\n",
              "       56,  1, 71, 74, 66,  1, 66, 74, 63, 70,  1, 66, 65,  1, 71, 59, 56,\n",
              "        1, 70, 71, 69, 56, 56, 71,  1, 70, 60, 58, 65,  1,  3, 39, 41, 32,\n",
              "       45, 28, 43,  1, 27, 41, 32, 45, 28,  3,  1, 52, 65, 55,  1, 71, 59,\n",
              "       56,  1, 54, 52, 64, 56, 69, 52,  1, 67, 52, 65, 70,  1, 71, 66,  1,\n",
              "       71, 59, 56,  1, 70, 71, 69, 56, 56, 71,  1, 74, 60, 71, 59,  1, 73,\n",
              "       56, 69, 76,  1, 60, 55, 56, 65, 71, 60, 54, 52, 63,  1, 63, 66, 66,\n",
              "       62, 60, 65, 58,  1, 53, 69, 66, 74, 65,  1, 53, 69, 60, 54, 62, 56,\n",
              "       55,  1, 59, 66, 72, 70, 56, 70,  9,  1, 38, 65, 56,  1, 71, 59, 56,\n",
              "        1, 66, 74, 63, 70,  1, 57, 63, 76,  1, 52, 74, 52])"
            ]
          },
          "metadata": {
            "tags": []
          },
          "execution_count": 72
        }
      ]
    },
    {
      "cell_type": "code",
      "metadata": {
        "id": "BKYiy42seLq2",
        "outputId": "a56bae7c-89fc-4dc6-a294-77ac4f356535",
        "colab": {
          "base_uri": "https://localhost:8080/",
          "height": 34
        }
      },
      "source": [
        "encoded_text.shape"
      ],
      "execution_count": 73,
      "outputs": [
        {
          "output_type": "execute_result",
          "data": {
            "text/plain": [
              "(418058,)"
            ]
          },
          "metadata": {
            "tags": []
          },
          "execution_count": 73
        }
      ]
    },
    {
      "cell_type": "code",
      "metadata": {
        "id": "K_wj2LVTeqNZ",
        "outputId": "4dbb9a5e-be9d-45ad-ddac-ba8ca10eeab2",
        "colab": {
          "base_uri": "https://localhost:8080/",
          "height": 697
        }
      },
      "source": [
        "print(text[200000:200500])"
      ],
      "execution_count": 74,
      "outputs": [
        {
          "output_type": "stream",
          "text": [
            " the dementors seem to have developed an interest in you... perhaps I should teach you.\n",
            "\n",
            "But after the holidays.\n",
            "\n",
            "For now, I need to rest.\n",
            "\n",
            "\n",
            "Last call for Hogsmeade!\n",
            "\n",
            "Come on, now!\n",
            "\n",
            "Guys, let me go.\n",
            "\n",
            "Clever, Harry.\n",
            "\n",
            "But not clever enough.\n",
            "\n",
            "We've got a better way.\n",
            "\n",
            "I'm trying to get to Hogsmeade.\n",
            "\n",
            "We know.\n",
            "\n",
            "We'll get you there.\n",
            "\n",
            "We'll show you a quicker way.\n",
            "\n",
            "Lf you pipe down.\n",
            "\n",
            "Bless him.\n",
            "\n",
            "Let me go! Come on, guys. Don't...\n",
            "\n",
            "Now, Harry.\n",
            "\n",
            "Come and join the big boys.\n",
            "\n",
            "What are you doing?!\n",
            "\n",
            "What's t\n"
          ],
          "name": "stdout"
        }
      ]
    },
    {
      "cell_type": "markdown",
      "metadata": {
        "id": "NRLDrVW238UX"
      },
      "source": [
        ""
      ]
    },
    {
      "cell_type": "code",
      "metadata": {
        "id": "4dyXVpcTezlp"
      },
      "source": [
        "lines = \"\"\"\n",
        "Last call for Hogsmeade!\n",
        "\n",
        "Come on, now!\n",
        "\n",
        "Guys, let me go.\n",
        "\n",
        "Clever, Harry.\n",
        "\n",
        "But not clever enough.\n",
        "\n",
        "We've got a better way.\n",
        "\n",
        "\"\"\""
      ],
      "execution_count": 75,
      "outputs": []
    },
    {
      "cell_type": "code",
      "metadata": {
        "id": "aYF2poV-fWjO",
        "outputId": "a540ef6a-fb03-4c4e-a94f-22af68439e1f",
        "colab": {
          "base_uri": "https://localhost:8080/",
          "height": 34
        }
      },
      "source": [
        "len(lines)"
      ],
      "execution_count": 76,
      "outputs": [
        {
          "output_type": "execute_result",
          "data": {
            "text/plain": [
              "125"
            ]
          },
          "metadata": {
            "tags": []
          },
          "execution_count": 76
        }
      ]
    },
    {
      "cell_type": "code",
      "metadata": {
        "id": "xla9XKMEfYYP"
      },
      "source": [
        "seq_len = 130"
      ],
      "execution_count": 77,
      "outputs": []
    },
    {
      "cell_type": "code",
      "metadata": {
        "id": "GJ2Bb56jfi6f"
      },
      "source": [
        "total_num_len = len(text)//(seq_len+1)"
      ],
      "execution_count": 78,
      "outputs": []
    },
    {
      "cell_type": "code",
      "metadata": {
        "id": "YXIe-atHfs6y",
        "outputId": "1ecc5151-d242-4d71-c802-77def42fb6a3",
        "colab": {
          "base_uri": "https://localhost:8080/",
          "height": 34
        }
      },
      "source": [
        "total_num_len"
      ],
      "execution_count": 79,
      "outputs": [
        {
          "output_type": "execute_result",
          "data": {
            "text/plain": [
              "3191"
            ]
          },
          "metadata": {
            "tags": []
          },
          "execution_count": 79
        }
      ]
    },
    {
      "cell_type": "code",
      "metadata": {
        "id": "AlyF5deAfvDQ"
      },
      "source": [
        "char_dataset = tf.data.Dataset.from_tensor_slices(encoded_text)"
      ],
      "execution_count": 80,
      "outputs": []
    },
    {
      "cell_type": "code",
      "metadata": {
        "id": "u999VMQUgFmF"
      },
      "source": [
        "sequences = char_dataset.batch(seq_len+1, drop_remainder=True)"
      ],
      "execution_count": 81,
      "outputs": []
    },
    {
      "cell_type": "code",
      "metadata": {
        "id": "tKwN0V9QgPTG"
      },
      "source": [
        "def create_seq_targets(seq):\n",
        "  input_txt = seq[:-1]\n",
        "  target_txt = seq[1:]\n",
        "  return input_txt, target_txt"
      ],
      "execution_count": 82,
      "outputs": []
    },
    {
      "cell_type": "code",
      "metadata": {
        "id": "6ulO5mwVgntJ"
      },
      "source": [
        "dataset = sequences.map(create_seq_targets)"
      ],
      "execution_count": 83,
      "outputs": []
    },
    {
      "cell_type": "code",
      "metadata": {
        "id": "llvMUHXBg1hv"
      },
      "source": [
        "batch_size = 128\n",
        "buffer_size = 10000"
      ],
      "execution_count": 84,
      "outputs": []
    },
    {
      "cell_type": "code",
      "metadata": {
        "id": "XSJBPX4rhEg1"
      },
      "source": [
        "dataset = dataset.shuffle(buffer_size).batch(batch_size, drop_remainder = True)"
      ],
      "execution_count": 85,
      "outputs": []
    },
    {
      "cell_type": "code",
      "metadata": {
        "id": "zLVEiVXFhX-0"
      },
      "source": [
        "vocab_size = len(vocab)\n",
        "embed_dim = 68\n",
        "rnn_neurons=1026"
      ],
      "execution_count": 86,
      "outputs": []
    },
    {
      "cell_type": "code",
      "metadata": {
        "id": "Qi7nhrtThteP"
      },
      "source": [
        "from tensorflow.keras.models import Sequential"
      ],
      "execution_count": 87,
      "outputs": []
    },
    {
      "cell_type": "code",
      "metadata": {
        "id": "vObZTcOah9nK"
      },
      "source": [
        "from tensorflow.keras.layers import Dense, Embedding, GRU"
      ],
      "execution_count": 88,
      "outputs": []
    },
    {
      "cell_type": "code",
      "metadata": {
        "id": "EG_EmzNeiH3I"
      },
      "source": [
        "from tensorflow.keras.losses import sparse_categorical_crossentropy"
      ],
      "execution_count": 89,
      "outputs": []
    },
    {
      "cell_type": "code",
      "metadata": {
        "id": "SSx0ysI0iNsX"
      },
      "source": [
        "def sparse_cat_loss(y_true, y_pred):\n",
        "  return sparse_categorical_crossentropy(y_true, y_pred, from_logits=True)"
      ],
      "execution_count": 90,
      "outputs": []
    },
    {
      "cell_type": "code",
      "metadata": {
        "id": "hOs3I9hIicov"
      },
      "source": [
        "def create_model(vocab_size, embed_dim, rnn_neurons, batch_size):\n",
        "  model = Sequential()\n",
        "  model.add(Embedding(vocab_size, embed_dim, batch_input_shape = [batch_size, None]))\n",
        "  model.add(GRU(rnn_neurons, return_sequences=True, stateful=True, recurrent_initializer='glorot_uniform'))\n",
        "  model.add(Dense(vocab_size))\n",
        "  model.compile(optimizer = 'adam', loss = sparse_cat_loss)\n",
        "  return model"
      ],
      "execution_count": 91,
      "outputs": []
    },
    {
      "cell_type": "code",
      "metadata": {
        "id": "RkzqBTJ4jO6k"
      },
      "source": [
        "model = create_model(vocab_size=vocab_size,\n",
        "                     embed_dim=embed_dim,\n",
        "                     rnn_neurons=rnn_neurons,\n",
        "                     batch_size=batch_size)"
      ],
      "execution_count": 92,
      "outputs": []
    },
    {
      "cell_type": "code",
      "metadata": {
        "id": "VoXbYvyvjfWV",
        "outputId": "ba4f7009-0d0b-446e-f3f2-1b88aa6b14e0",
        "colab": {
          "base_uri": "https://localhost:8080/",
          "height": 255
        }
      },
      "source": [
        "model.summary()"
      ],
      "execution_count": 93,
      "outputs": [
        {
          "output_type": "stream",
          "text": [
            "Model: \"sequential_4\"\n",
            "_________________________________________________________________\n",
            "Layer (type)                 Output Shape              Param #   \n",
            "=================================================================\n",
            "embedding_4 (Embedding)      (128, None, 68)           5984      \n",
            "_________________________________________________________________\n",
            "gru_4 (GRU)                  (128, None, 1026)         3373488   \n",
            "_________________________________________________________________\n",
            "dense_4 (Dense)              (128, None, 88)           90376     \n",
            "=================================================================\n",
            "Total params: 3,469,848\n",
            "Trainable params: 3,469,848\n",
            "Non-trainable params: 0\n",
            "_________________________________________________________________\n"
          ],
          "name": "stdout"
        }
      ]
    },
    {
      "cell_type": "code",
      "metadata": {
        "id": "U_5jdh2_jjKF"
      },
      "source": [
        "#epochs = 60\n",
        "#model.fit(dataset, epochs=epochs)"
      ],
      "execution_count": 94,
      "outputs": []
    },
    {
      "cell_type": "code",
      "metadata": {
        "id": "UFfak8gujtKr"
      },
      "source": [
        "#model.save('harry_potter_updated.h5')"
      ],
      "execution_count": 95,
      "outputs": []
    },
    {
      "cell_type": "code",
      "metadata": {
        "id": "sjcisOSY2u8_"
      },
      "source": [
        "from tensorflow.keras.models import load_model"
      ],
      "execution_count": 96,
      "outputs": []
    },
    {
      "cell_type": "code",
      "metadata": {
        "id": "fW-4ulFeCw5U"
      },
      "source": [
        "model = create_model(vocab_size, embed_dim, rnn_neurons, batch_size=1)\n",
        "model.load_weights('harry_potter_updated.h5')\n",
        "model.build(tf.TensorShape([1, None]))"
      ],
      "execution_count": 97,
      "outputs": []
    },
    {
      "cell_type": "code",
      "metadata": {
        "id": "9PHijuRKDCK1"
      },
      "source": [
        "def generate_text(model, start_seed,gen_size=100,temp=1.0):\n",
        "  '''\n",
        "  model: Trained Model to Generate Text\n",
        "  start_seed: Intial Seed text in string form\n",
        "  gen_size: Number of characters to generate\n",
        "\n",
        "  Basic idea behind this function is to take in some seed text, format it so\n",
        "  that it is in the correct shape for our network, then loop the sequence as\n",
        "  we keep adding our own predicted characters. Similar to our work in the RNN\n",
        "  time series problems.\n",
        "  '''\n",
        "\n",
        "  # Number of characters to generate\n",
        "  num_generate = gen_size\n",
        "\n",
        "  # Vecotrizing starting seed text\n",
        "  input_eval = [char_to_ind[s] for s in start_seed]\n",
        "\n",
        "  # Expand to match batch format shape\n",
        "  input_eval = tf.expand_dims(input_eval, 0)\n",
        "\n",
        "  # Empty list to hold resulting generated text\n",
        "  text_generated = []\n",
        "\n",
        "  # Temperature effects randomness in our resulting text\n",
        "  # The term is derived from entropy/thermodynamics.\n",
        "  # The temperature is used to effect probability of next characters.\n",
        "  # Higher probability == lesss surprising/ more expected\n",
        "  # Lower temperature == more surprising / less expected\n",
        " \n",
        "  temperature = temp\n",
        "\n",
        "  # Here batch size == 1\n",
        "  model.reset_states()\n",
        "\n",
        "  for i in range(num_generate):\n",
        "\n",
        "      # Generate Predictions\n",
        "      predictions = model(input_eval)\n",
        "\n",
        "      # Remove the batch shape dimension\n",
        "      predictions = tf.squeeze(predictions, 0)\n",
        "\n",
        "      # Use a cateogircal disitribution to select the next character\n",
        "      predictions = predictions / temperature\n",
        "      predicted_id = tf.random.categorical(predictions, num_samples=1)[-1,0].numpy()\n",
        "\n",
        "      # Pass the predicted charracter for the next input\n",
        "      input_eval = tf.expand_dims([predicted_id], 0)\n",
        "\n",
        "      # Transform back to character letter\n",
        "      text_generated.append(ind_to_char[predicted_id])\n",
        "\n",
        "  return (start_seed + ''.join(text_generated))"
      ],
      "execution_count": 98,
      "outputs": []
    },
    {
      "cell_type": "code",
      "metadata": {
        "id": "EbdagsJpDPo3",
        "outputId": "fff4af60-3768-43d4-e75c-c7e0d5bcb243",
        "colab": {
          "base_uri": "https://localhost:8080/",
          "height": 122
        }
      },
      "source": [
        "print(generate_text(model,\"Harry Potter\",gen_size=500))"
      ],
      "execution_count": 102,
      "outputs": [
        {
          "output_type": "stream",
          "text": [
            "Harry Potter?\n",
            "- Who it's losting\n",
            "it. Harry said as Flitwick gasps, a vorcers are door again] Petrified with wizards. He looks past from sevening whistle looks at him, he trips, accompanied by his assem tair it again. Hagrid closes the can; just a dry. The sky cheers at his most prince got past a bubble knouging. The hell monithres at Harry with one of Liffle Poldrraxis is noingey... misturn into a student why you wanted him at the skyoun with an interesting as it wasnat\n",
            "in the locket,\n",
            "but nothing muck hallo\n"
          ],
          "name": "stdout"
        }
      ]
    },
    {
      "cell_type": "code",
      "metadata": {
        "id": "WdaVvtbM7Xro",
        "outputId": "b2ef1a56-c9e3-4d03-a3fb-2863d7156763",
        "colab": {
          "base_uri": "https://localhost:8080/",
          "height": 190
        }
      },
      "source": [
        "print(generate_text(model,\"Harry\",gen_size=500))"
      ],
      "execution_count": 104,
      "outputs": [
        {
          "output_type": "stream",
          "text": [
            "Harry never apsifed that what.\n",
            "\n",
            "RON\n",
            "We need to know.\n",
            "\n",
            "HARRY\n",
            "I didn't amsomet de intry-plouders! Pleakers, fools when I say if I might has been changed into Forget to his kneese, snakeshing the zooks fayis evening. It's Lovel use your referess, snawes, and camely friends are being and into the mirror. I never enough to get into the light]\n",
            "And there's somelgist behind them. They walk once as be descined at she gives a second blood saflie cocker and practice.\n",
            "Harry: [realizing] The Pirith will be the si\n"
          ],
          "name": "stdout"
        }
      ]
    },
    {
      "cell_type": "code",
      "metadata": {
        "id": "cRpq2fU6DWYD",
        "outputId": "c3a0ae4a-a696-474f-9756-54940b3df481",
        "colab": {
          "base_uri": "https://localhost:8080/",
          "height": 357
        }
      },
      "source": [
        "print(generate_text(model,\" Ron Weasley\",gen_size=500))"
      ],
      "execution_count": 103,
      "outputs": [
        {
          "output_type": "stream",
          "text": [
            " Ron Weasley ...\"\n",
            "\"...... I could to say that be\n",
            "waken in there. Students raughter dragons\n",
            "arenting not just any only jumps.\n",
            "\n",
            "RON: I must wondered it.\n",
            "-hud appiarm\n",
            "Wize it.\n",
            "Could I he, you looking for him..\n",
            "\n",
            "Did and Fluck from his begroom coming.\n",
            "Draco: Oh. Every didn't take it\n",
            "of two platse against the\n",
            "Ronsten Harry's last one.\n",
            "Harry: Sorry about what Snape and thut\n",
            "castle, kill! [Harry sits screaming and runs through the castle. Lever mendione they can't\n",
            "\n",
            "All right.\n",
            "\n",
            "There's no need. It's never any hister\n"
          ],
          "name": "stdout"
        }
      ]
    },
    {
      "cell_type": "code",
      "metadata": {
        "id": "rFJoex-x7hC1",
        "outputId": "447a0ffa-28e7-491e-ee30-8297233f212c",
        "colab": {
          "base_uri": "https://localhost:8080/",
          "height": 289
        }
      },
      "source": [
        "print(generate_text(model,\"Ron\",gen_size=500))"
      ],
      "execution_count": 106,
      "outputs": [
        {
          "output_type": "stream",
          "text": [
            "RonY\n",
            "On never gever\n",
            "Ruddis has as bad a smyle.\n",
            "- What's ghisp---NYE-have hards.\n",
            "\n",
            "HARRY: I brigge has never told me how to deserve it.\n",
            "- Come on, get back, this is of Harry Potter?\n",
            "Harry: But you mean, I had notide achid about the dust brother. A clum wills up a boot and stinking]\n",
            "Frinte? Greg thats his Camelloom steps their wands] Toking you will lose. We sound of\n",
            "\n",
            "Harry Potter?\n",
            "Parchis tean fate friends.\n",
            "\n",
            "RON\n",
            "Grey lade closes\n",
            "? just... Then, two, two. Three-Itho open it. Snape turns Mad, Professor\n"
          ],
          "name": "stdout"
        }
      ]
    },
    {
      "cell_type": "code",
      "metadata": {
        "id": "nLmXX_u82O73",
        "outputId": "b5df6088-c349-4450-9d14-cf4ab30a4b94",
        "colab": {
          "base_uri": "https://localhost:8080/",
          "height": 612
        }
      },
      "source": [
        "print(generate_text(model,\"Hermione Granger\",gen_size=500))"
      ],
      "execution_count": 107,
      "outputs": [
        {
          "output_type": "stream",
          "text": [
            "Hermione Granger, of Dobonet.\n",
            "\n",
            "It's been indentione Goile?\n",
            "Harry: I'm a couple moster, hav it, ilvisible\n",
            "ofared fe.\n",
            "\n",
            "Now, who's dead.\n",
            "\n",
            "Sure?\n",
            "\n",
            "Leter me, Sirius.\n",
            "- Thank you, Mr. Filch...\n",
            "\n",
            "That is my pruce.\n",
            "\n",
            "I've gone more.\n",
            "\n",
            "Fiest to put it three, you join\n",
            "me intreduct I think I had a give a wishy's o\n",
            "junce doesen.\n",
            "I thought stide, you have done.\n",
            "\n",
            "\n",
            "\n",
            "EXT. HOGWARTS\n",
            "\n",
            "I can two shape one erspun and in.\n",
            "\n",
            "HERMIONE\n",
            "Harry!\n",
            "\n",
            "HARRY\n",
            "Clearly, in my opens, normoll, and we soing uncreams.\n",
            "\n",
            "And then Dumbledore, giving us all. B\n"
          ],
          "name": "stdout"
        }
      ]
    },
    {
      "cell_type": "code",
      "metadata": {
        "id": "5HxR8UEr63oC",
        "outputId": "15d2910d-9eee-4cce-c655-30badb61f21e",
        "colab": {
          "base_uri": "https://localhost:8080/",
          "height": 343
        }
      },
      "source": [
        "print(generate_text(model,\"Hermione\",gen_size=500))"
      ],
      "execution_count": 108,
      "outputs": [
        {
          "output_type": "stream",
          "text": [
            "Hermione You-Know-Who?\n",
            "\n",
            "Not, I will do something!\n",
            "\n",
            "Ancond, the blud than familier this evening.\n",
            "\n",
            "I live with your name is staffi...... is it. [falls into the still of intr classes at once!\n",
            "\n",
            "Hermione east,\n",
            "\n",
            "Harry: Wingardium Leviosa! [His is ition, it was mentaps, and I'll be killed.\n",
            "\n",
            "I'm sure I saw you something more\n",
            "Varno.\n",
            "\n",
            "HARRY\n",
            "The curse it's a sirey side in hy ask, the sinks my children desestedding the statue. the car waiseed out and evilants the can'le family following him after him.\n",
            "Snape: Well, \n"
          ],
          "name": "stdout"
        }
      ]
    },
    {
      "cell_type": "code",
      "metadata": {
        "id": "_I_tBRGJ8CQi",
        "outputId": "09d26cb6-2dc7-48c4-fcd3-ce5abce5090a",
        "colab": {
          "base_uri": "https://localhost:8080/",
          "height": 357
        }
      },
      "source": [
        "print(generate_text(model,\"Draco Malfoy\",gen_size=500))"
      ],
      "execution_count": 109,
      "outputs": [
        {
          "output_type": "stream",
          "text": [
            "Draco Malfoy get up.\n",
            "- Where did you know...?\n",
            "Dumbledore as Just witch on wizard if you\n",
            "chose of you think that I am our seek this Sorting\n",
            "Hat: Ahe him]\n",
            "Ginny. No, That's thy In short. [Harry shouts. Harry callly be sous\n",
            "boying with the students were.\n",
            "Couspo-ition they are not.\n",
            "- Lugging.\n",
            "I thought I could have staircase to es.\n",
            "Harry and Ron stare mys, falling flies off. Here strugg...\n",
            "...these way\n",
            "be just the snake.\n",
            "\n",
            "STRICHER 1NSPEAVE! The Purilish is smoke.\n",
            "\n",
            "\n",
            "INT. ROOMT\n",
            "How did you detic, me am\n",
            "Iffounder \n"
          ],
          "name": "stdout"
        }
      ]
    },
    {
      "cell_type": "code",
      "metadata": {
        "id": "WiVjEWyU8XVz",
        "outputId": "8edde4f1-d4fe-4fba-ac8d-82ea5c024d1d",
        "colab": {
          "base_uri": "https://localhost:8080/",
          "height": 391
        }
      },
      "source": [
        "print(generate_text(model,\"Draco\",gen_size=500))"
      ],
      "execution_count": 110,
      "outputs": [
        {
          "output_type": "stream",
          "text": [
            "Dracon gets out of it.] Ev. And Mimbst more. They kill you...\n",
            "...you were waiting for you.\n",
            "\n",
            "GADY\n",
            "Ah, gon.\n",
            "\n",
            "Ifter he should think I can end their new\n",
            "Smyous. These was with the broom! Why, imagine this boys. They start are stoom?\n",
            "\n",
            "HARRY\n",
            "Yeah she does.\n",
            "\n",
            "Sur an annoran and their driver granity\n",
            "an ermeds.\n",
            "\n",
            "WERRIONE\n",
            "I think, Mad-Eye fould readized there but it's coming up!\n",
            "\n",
            "ate me gets to be with, Harry's brilliant on the wrong nors]\n",
            "Professor Dumbledore: Ginny, Cornelius Fudge is a poriticialy\n",
            "\n",
            "the secon\n"
          ],
          "name": "stdout"
        }
      ]
    },
    {
      "cell_type": "code",
      "metadata": {
        "id": "bwagW24P8eh2",
        "outputId": "e0fac851-4584-4eba-e87a-3b3103a4e369",
        "colab": {
          "base_uri": "https://localhost:8080/",
          "height": 255
        }
      },
      "source": [
        "print(generate_text(model,\"Albus Dumbledore\",gen_size=500))"
      ],
      "execution_count": 111,
      "outputs": [
        {
          "output_type": "stream",
          "text": [
            "Albus Dumbledore trailly, Mr. Foldow me with you...knaw-MY-\n",
            "HERMIONE\n",
            "Exactly.\n",
            "\n",
            "and spells in standing op the wall.\n",
            "Magical Chouts and starts turn] Mins Granger.\n",
            "Hike on.\n",
            "Prememost great, come on. Quick.\n",
            "- I ampeared at Hogwarts\n",
            "[Nater atte this Harry but nothing buckeded] Of course! Right. Mrs lide girls do you skide sounds] Harry!\n",
            "Harry: Whoa!! [Harry is left by himself himbin again.\n",
            "\n",
            "Hey, Neville, Normella. The bitch! [Hagrid then Harry,\n",
            "that the pointing behind to with histerfacter at him after his eaf gille\n"
          ],
          "name": "stdout"
        }
      ]
    },
    {
      "cell_type": "code",
      "metadata": {
        "id": "yU2s4jmV8zcF",
        "outputId": "68b6c426-5b3f-42ba-8641-3a897b8a8117",
        "colab": {
          "base_uri": "https://localhost:8080/",
          "height": 306
        }
      },
      "source": [
        "print(generate_text(model,\"Dumbledore\",gen_size=500))"
      ],
      "execution_count": 112,
      "outputs": [
        {
          "output_type": "stream",
          "text": [
            "Dumbledore think!\n",
            "Hagrid: Oh, nixe to meet my dad mid to sevorm to the OMENNESERNEBE\n",
            "What?\n",
            "Look was we are to find.\n",
            "Ron: [glances at the scroom] [Harry notices this.]\n",
            "Filch: Ravenglaw?\n",
            "If on e stops, he is ready.\"\n",
            "Ron appear, right?\n",
            "Well, make warno louses.\n",
            "\n",
            "DUMBLEDORE\n",
            "Well done! Lee've wanted you too me?\n",
            "Petunia: It'll be dead by a witchack.\n",
            "Ron: Well, you got worse the blood that fursthing better, Hermione.\n",
            "Finntleain, if you heard...Chofoldelt up on a train conicredor...\n",
            "\n",
            "And in a first time in suppone\n"
          ],
          "name": "stdout"
        }
      ]
    },
    {
      "cell_type": "code",
      "metadata": {
        "id": "YXgIiNtA86n2",
        "outputId": "59600355-551a-4a66-dc4f-902705e5bf55",
        "colab": {
          "base_uri": "https://localhost:8080/",
          "height": 224
        }
      },
      "source": [
        "print(generate_text(model,\"lord voldemort\",gen_size=500))"
      ],
      "execution_count": 113,
      "outputs": [
        {
          "output_type": "stream",
          "text": [
            "lord voldemort. Malyon for a pircurn.\n",
            "So he ridn: Even if I amppeaut, with second, the blood touches his fichtairs across thoughts] Good afternoon, Alowort and ratulares one wells their aunds.\n",
            "The Hand\n",
            "Who are you ghat was a boggart.\n",
            "Harry: Well, well. Ifur lest take a would have secret with just and broken bed.\n",
            "- What are you doing?\n",
            "[Harry picks up a reasou and ill min the car in drovence both.\n",
            "You saw you tell me\n",
            "Whey are the?\n",
            "\n",
            "Sonamy liked by noncome saver the mestard is, now, Harry. [Harry glances at him,\n"
          ],
          "name": "stdout"
        }
      ]
    },
    {
      "cell_type": "code",
      "metadata": {
        "id": "buhxNNwd9iw_",
        "outputId": "c58efcfc-5a12-483b-968b-8780a00d30d3",
        "colab": {
          "base_uri": "https://localhost:8080/",
          "height": 207
        }
      },
      "source": [
        "print(generate_text(model,\"voldemort\",gen_size=500))"
      ],
      "execution_count": 114,
      "outputs": [
        {
          "output_type": "stream",
          "text": [
            "voldemort. The wizard families as he strange whisper activities.\n",
            "Very good.\n",
            "We saw you went with me?\n",
            "Dobby?\n",
            "Harry: The Ministry of Magic. A caM Gis Breshif! / I\n",
            "- Do? Harry.\n",
            "The louss only vision to supposed to get it.\n",
            "\n",
            "Now, and you can telling where you're going, this\n",
            "our sumposes later, Hermione stop, butarestoom, imp. Cornelius Fudge] [gurs] I'll be in his right in very, visione sell of sheking firmy swort. He climes back to her with a spider in defeen] Hehe, not a sco, with Harry objects the wand bul\n"
          ],
          "name": "stdout"
        }
      ]
    },
    {
      "cell_type": "code",
      "metadata": {
        "id": "_H8U_ilx9pco"
      },
      "source": [
        ""
      ],
      "execution_count": null,
      "outputs": []
    }
  ]
}